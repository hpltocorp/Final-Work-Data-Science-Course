{
 "cells": [
  {
   "cell_type": "markdown",
   "metadata": {},
   "source": [
    "<center>\n",
    "    <img src=\"https://cf-courses-data.s3.us.cloud-object-storage.appdomain.cloud/IBMDeveloperSkillsNetwork-DS0105EN-SkillsNetwork/labs/Module2/images/SN_web_lightmode.png\" width=\"300\" alt=\"cognitiveclass.ai logo\">\n",
    "</center>\n"
   ]
  },
  {
   "cell_type": "markdown",
   "metadata": {},
   "source": [
    "#### Add your code below following the instructions given in the course\n"
   ]
  },
  {
   "cell_type": "markdown",
   "metadata": {},
   "source": [
    "# Final Work Data Science Course"
   ]
  },
  {
   "cell_type": "markdown",
   "metadata": {},
   "source": [
    "## Introduction"
   ]
  },
  {
   "cell_type": "markdown",
   "metadata": {},
   "source": [
    "### Popular data science languages:\n",
    "\n",
    "1. Python\n",
    "2. R\n",
    "3. SQL\n",
    "4. Java\n",
    "5. Scala\n",
    "6. MATLAB\n",
    "7. Julia\n",
    "8. SAS\n",
    "9. C++\n",
    "10. JavaScript"
   ]
  },
  {
   "cell_type": "markdown",
   "metadata": {},
   "source": [
    "### Popular data science libraries:\n",
    "\n",
    "1. NumPy\n",
    "2. Pandas\n",
    "3. Matplotlib\n",
    "4. Seaborn\n",
    "5. Scikit-learn\n",
    "6. TensorFlow\n",
    "7. Keras\n",
    "8. PyTorch\n",
    "9. NLTK\n",
    "10. OpenCV"
   ]
  },
  {
   "cell_type": "markdown",
   "metadata": {
    "tags": []
   },
   "source": [
    "### Popular data science tools:\n",
    "\n",
    "| Tool           | Description                                                                 |\n",
    "|----------------|-----------------------------------------------------------------------------|\n",
    "| Python         | General-purpose programming language with extensive data science libraries  |\n",
    "| R              | Statistical computing language with powerful data analysis capabilities     |\n",
    "| SQL            | Query language used to manage and manipulate relational databases            |\n",
    "| Java           | Object-oriented programming language with strong performance capabilities    |\n",
    "| Scala          | High-level programming language for data processing on distributed systems  |\n",
    "| MATLAB         | Numerical computing environment for scientific computing and visualization |\n",
    "| Julia          | High-performance language for numerical and scientific computing            |\n",
    "| SAS            | Business analytics software suite with advanced statistical analysis tools  |\n",
    "| C++            | General-purpose programming language with high performance capabilities     |\n",
    "| JavaScript     | Programming language used for web development and data visualization        |"
   ]
  },
  {
   "cell_type": "markdown",
   "metadata": {},
   "source": [
    "### Arithmetic Expressions\n",
    "\n",
    "Arithmetic expressions are mathematical operations that involve numbers and operators. In programming, arithmetic expressions are used to perform calculations and manipulate data.\n",
    "\n",
    "Here are some examples of arithmetic expressions:\n",
    "\n",
    "- Addition: `2 + 3 = 5`\n",
    "- Subtraction: `5 - 2 = 3`\n",
    "- Multiplication: `2 * 3 = 6`\n",
    "- Division: `6 / 3 = 2`\n",
    "- Exponentiation: `2 ** 3 = 8`\n",
    "\n",
    "In addition to these basic operations, arithmetic expressions can also include parentheses to specify the order of operations. For example:\n",
    "\n",
    "- `(2 + 3) * 4 = 20`\n",
    "- `2 + (3 * 4) = 14`\n",
    "\n",
    "Arithmetic expressions are a fundamental concept in programming and are used extensively in data science for tasks such as numerical analysis, statistical modeling, and machine learning."
   ]
  },
  {
   "cell_type": "code",
   "execution_count": 2,
   "metadata": {
    "tags": []
   },
   "outputs": [
    {
     "name": "stdout",
     "output_type": "stream",
     "text": [
      "Multiplication of x and y: 15\n",
      "Addition of x and y: 8\n"
     ]
    }
   ],
   "source": [
    "# Multiplication and Addition\n",
    "\n",
    "x = 5\n",
    "y = 3\n",
    "\n",
    "# Multiply x and y\n",
    "z = x * y\n",
    "print(\"Multiplication of x and y:\", z)\n",
    "\n",
    "# Add x and y\n",
    "w = x + y\n",
    "print(\"Addition of x and y:\", w)"
   ]
  },
  {
   "cell_type": "code",
   "execution_count": 3,
   "metadata": {
    "tags": []
   },
   "outputs": [
    {
     "name": "stdout",
     "output_type": "stream",
     "text": [
      "Minutes: 120\n",
      "Hours: 2.0\n"
     ]
    }
   ],
   "source": [
    "# Convert Minutes to Hours\n",
    "\n",
    "minutes = 120\n",
    "\n",
    "# Calculate hours\n",
    "hours = minutes / 60\n",
    "\n",
    "print(\"Minutes:\", minutes)\n",
    "print(\"Hours:\", hours)"
   ]
  },
  {
   "cell_type": "markdown",
   "metadata": {},
   "source": [
    "# Objectives\n",
    "\n",
    "1. Describe tools and programming languages popular in Data Science workflow, such as applications.\n",
    "2. Share information trough other students of the Data Science Course."
   ]
  },
  {
   "cell_type": "markdown",
   "metadata": {},
   "source": [
    "## Made my Gustavo Hipolito"
   ]
  }
 ],
 "metadata": {
  "kernelspec": {
   "display_name": "Python",
   "language": "python",
   "name": "conda-env-python-py"
  },
  "language_info": {
   "codemirror_mode": {
    "name": "ipython",
    "version": 3
   },
   "file_extension": ".py",
   "mimetype": "text/x-python",
   "name": "python",
   "nbconvert_exporter": "python",
   "pygments_lexer": "ipython3",
   "version": "3.7.12"
  }
 },
 "nbformat": 4,
 "nbformat_minor": 4
}
